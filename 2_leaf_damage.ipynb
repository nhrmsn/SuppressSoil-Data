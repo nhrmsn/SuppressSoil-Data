{
 "cells": [
  {
   "cell_type": "code",
   "execution_count": null,
   "id": "69e41416-4ad3-46ab-a286-65b5a2134591",
   "metadata": {},
   "outputs": [],
   "source": [
    "#install.packages(\"tidyverse\")\n",
    "library(tidyverse) # loads dplyr, ggplot2, stringr etc\n",
    "\n",
    "#install.packages(c(\"car\",\"agricolae\", \"FSA\"))\n",
    "library(car)\n",
    "library(agricolae)\n",
    "library(FSA)"
   ]
  },
  {
   "cell_type": "code",
   "execution_count": null,
   "id": "6bf14d5f-c6d0-4a6e-b992-4a53b51b87b0",
   "metadata": {},
   "outputs": [],
   "source": [
    "#Jupyter root Oulema-Wheat\n",
    "pliman <- read.csv(\"2_leaf_damage.csv\", header = TRUE)"
   ]
  },
  {
   "cell_type": "code",
   "execution_count": null,
   "id": "10d87b93-d23b-488f-8cb1-c8cb8bc1b563",
   "metadata": {},
   "outputs": [],
   "source": [
    "##STATS##–––––––– \n",
    "\n",
    "# CHECKING NORMAL DISTRIBUTION\n",
    "\n",
    "# FOR REGULAR DATA -- Check assumptions: normality and homogeneity of variances\n",
    "\n",
    "shapiro = as.numeric(shapiro.test(pliman$Damaged)$p.value)\n",
    "levene = as.numeric(car::leveneTest(Damaged ~ Soil, data=pliman)$`Pr(>F)`[1])\n",
    "if (shapiro > 0.05 & levene > 0.05) {\n",
    "  print(\"     you should perform ANOVA test\")\n",
    "} else {\n",
    "  print(\"    you should perform Kruskal-Wallis test\")\n",
    "}\n",
    "print(paste0(\"Shapiro test p-value: \", shapiro))\n",
    "print(paste0(\"Levene test p-value: \", levene))\n",
    "\n",
    "kruskal.test(Damaged~Treatment, data = pliman) # significant difference between control and insect"
   ]
  },
  {
   "cell_type": "code",
   "execution_count": null,
   "id": "1279b8e2-61e1-46f5-8df3-4158281a9b6e",
   "metadata": {},
   "outputs": [],
   "source": [
    "#Testing differences between conducive and suppressive\n",
    "wil <- data.frame(type = pliman$Soil_Type, damage = pliman$Damaged)\n",
    "wil <- wil %>% arrange(type)\n",
    "wil$id <- c(1:109,1:110)\n",
    "new.wil <- reshape(wil, idvar = \"id\", timevar = \"type\", direction = \"wide\")\n",
    "names(new.wil) <- c(\"id\", \"conducive\", \"suppressive\")\n",
    "\n",
    "wilcox.test(new.wil$conducive, new.wil$suppressive)\n",
    "#There is no statistically significant difference between conducive and suppressive"
   ]
  },
  {
   "cell_type": "code",
   "execution_count": null,
   "id": "8c63752d-82ce-4cf7-ba1c-cbc4f6a562bb",
   "metadata": {},
   "outputs": [],
   "source": [
    "pliman$Condition <- paste0(pliman$Soil, \"_\", pliman$Treatment)\n",
    "\n",
    "    kw = agricolae::kruskal(pliman$Damaged, \n",
    "                        pliman$Condition, alpha = 0.05, p.adj = \"fdr\")\n",
    "    kwres = rownames_to_column(kw$groups, var=\"Name\")\n",
    "\n",
    "plot <- ggplot(pliman, aes(x=Condition, y=Damaged, fill=Soil)) +\n",
    "    scale_fill_manual(values= c(\"#887bb9\", \"#a35da5\", \"#69b19a\", \"#8ec372\")) +\n",
    "    geom_boxplot(outlier.alpha = 0.8, outlier.shape = 16) + \n",
    "    geom_jitter(alpha=0.9, size=0.4, width = 0.5, shape=16) +\n",
    "    geom_vline(xintercept=c(2.5,4.5,6.5), \n",
    "               linetype = \"dashed\", color = \"grey\") +\n",
    "    annotate(geom = \"text\", x=kwres$Name, \n",
    "             y = 110, label=kwres$groups) +\n",
    "    theme_classic() + theme(axis.text.x = element_text(angle=45, vjust=1, hjust=1))\n",
    "\n",
    "    print(plot)"
   ]
  }
 ],
 "metadata": {
  "kernelspec": {
   "display_name": "R",
   "language": "R",
   "name": "ir"
  },
  "language_info": {
   "codemirror_mode": "r",
   "file_extension": ".r",
   "mimetype": "text/x-r-source",
   "name": "R",
   "pygments_lexer": "r",
   "version": "4.3.0"
  }
 },
 "nbformat": 4,
 "nbformat_minor": 5
}
