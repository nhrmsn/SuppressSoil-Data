{
 "cells": [
  {
   "cell_type": "code",
   "execution_count": null,
   "id": "3c26b81e-716f-4bab-81db-bec511763c7f",
   "metadata": {},
   "outputs": [],
   "source": [
    "# Analyze Thielaviopsis data. The purpose of the experiment was to verify the suppressiveness\n",
    "# or conduciveness of the six soils. Plants were inoculated with Basicola thielaviopsis and left\n",
    "# to grow. The roots were assessed for extent of disease (pathogenicity).\n",
    "\n",
    "library(tidyverse) # loads dplyr, ggplot2, stringr etc"
   ]
  },
  {
   "cell_type": "code",
   "execution_count": null,
   "id": "0216ff7a-fbb2-478a-873e-dfb167e28249",
   "metadata": {},
   "outputs": [],
   "source": [
    "pathogenicity <- read.csv(\"0_pathogenicity.csv\",\n",
    "                          header = TRUE)\n",
    "pathogenicity$Condition <- str_c(pathogenicity$Soil, \n",
    "                                 pathogenicity$Treatment,\n",
    "                                 sep = \"_\")"
   ]
  },
  {
   "cell_type": "code",
   "execution_count": null,
   "id": "1b2a9a1c-9015-4598-ab18-94c8025fdff5",
   "metadata": {
    "scrolled": true
   },
   "outputs": [],
   "source": [
    "##STATISTICSS##–––––––– \n",
    "\n",
    "# CHECKING NORMAL DISTRIBUTION\n",
    "\n",
    "#install.packages(c(\"car\",\"agricolae\", \"FSA\"))\n",
    "library(car) # Levene test\n",
    "\n",
    "\n",
    "# Check assumptions: normality and homogeneity of variances\n",
    "shapiro = as.numeric(shapiro.test(pathogenicity$Pathogenicity)$p.value)\n",
    "levene = as.numeric(car::leveneTest(Pathogenicity ~ Soil, data=pathogenicity)$`Pr(>F)`[1])\n",
    "if (shapiro > 0.05 & levene > 0.05) {\n",
    "  print(\"     you should perform ANOVA test\")\n",
    "} else {\n",
    "  print(\"    you should perform Kruskal-Wallis test\")\n",
    "}\n",
    "print(paste0(\"Shapiro test p-value: \", shapiro))\n",
    "print(paste0(\"Levene test p-value: \", levene))\n",
    "\n",
    "\n",
    "# CHECKING SIGNIFICANT DIFFERENCE BETWEEN CONTROL AND TREATMENT\n",
    "kruskal.test(Pathogenicity ~ Treatment, data = pathogenicity)\n",
    "# There is a significant difference between control and insect groups"
   ]
  },
  {
   "cell_type": "code",
   "execution_count": null,
   "id": "85cef78b-7b10-4135-9a72-f0724b520aa4",
   "metadata": {},
   "outputs": [],
   "source": [
    "library(agricolae) # to plot the statistical groups\n",
    "\n",
    "kw = agricolae::kruskal(pathogenicity$Pathogenicity, \n",
    "                    pathogenicity$Condition, alpha = 0.05, p.adj = \"fdr\")\n",
    "kwres = rownames_to_column(kw$groups, var=\"Name\")"
   ]
  },
  {
   "cell_type": "code",
   "execution_count": null,
   "id": "2370686f-6a67-44e1-81e2-8bcc69eb24e9",
   "metadata": {},
   "outputs": [],
   "source": [
    "plot <- ggplot(pathogenicity, aes(x=Condition, y=Pathogenicity, \n",
    "                                  colour=Treatment, fill=Treatment)) +\n",
    "    scale_color_manual(values= c(\"#435748\", \"#464166\")) +\n",
    "    scale_fill_manual(values= c(\"#b8c8af\", \"#B3A6C3\")) +\n",
    "    geom_boxplot(outlier.alpha = 0.8, outlier.shape = 16) + \n",
    "    geom_jitter(alpha=0.9, size=0.4, width = 0.5, shape=16) +\n",
    "    geom_vline(xintercept=c(2.5,4.5,6.5,8.5,10.5), \n",
    "               linetype = \"dashed\", color = \"grey\") +\n",
    "    annotate(geom = \"text\", x=kwres$Name, \n",
    "             y = 110, label=kwres$groups,\n",
    "             color = \"#000000\") +\n",
    "    theme_classic() + theme(axis.text.x = element_text(angle=45, vjust=1, hjust=1))"
   ]
  },
  {
   "cell_type": "code",
   "execution_count": null,
   "id": "ffb84e88-1b78-475a-aae2-075ca1733db7",
   "metadata": {
    "scrolled": true
   },
   "outputs": [],
   "source": [
    "plot\n",
    "ggsave(\"~/Desktop/thielaviopsis.pdf\", \n",
    "       width = 20,\n",
    "       height = 16,\n",
    "       units = c(\"cm\"))"
   ]
  }
 ],
 "metadata": {
  "kernelspec": {
   "display_name": "R",
   "language": "R",
   "name": "ir"
  },
  "language_info": {
   "codemirror_mode": "r",
   "file_extension": ".r",
   "mimetype": "text/x-r-source",
   "name": "R",
   "pygments_lexer": "r",
   "version": "4.3.0"
  }
 },
 "nbformat": 4,
 "nbformat_minor": 5
}
